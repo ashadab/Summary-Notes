{
 "cells": [
  {
   "cell_type": "code",
   "execution_count": 1,
   "metadata": {},
   "outputs": [],
   "source": [
    "import numpy as np\n",
    "import seaborn as sns\n",
    "import matplotlib.pyplot as plt\n",
    "\n",
    "%matplotlib inline"
   ]
  },
  {
   "cell_type": "code",
   "execution_count": null,
   "metadata": {},
   "outputs": [],
   "source": []
  },
  {
   "cell_type": "code",
   "execution_count": null,
   "metadata": {},
   "outputs": [],
   "source": []
  },
  {
   "cell_type": "markdown",
   "metadata": {},
   "source": [
    "# Verifying Weak Law of large numbers (WLLN)"
   ]
  },
  {
   "cell_type": "markdown",
   "metadata": {},
   "source": [
    "WLNN states that if we draw a large sample size that if we have large many of iid random variables then\n",
    "sample mean will coverge to true parameter or population mean\n"
   ]
  },
  {
   "cell_type": "code",
   "execution_count": 8,
   "metadata": {},
   "outputs": [
    {
     "name": "stdout",
     "output_type": "stream",
     "text": [
      "[13.71119242 14.44766258 10.59489912 13.118035  ]\n",
      "Population mean is =  15.0\n",
      "Mean of sample mean =  15.007213670966538\n",
      "Population standard deviation is =  2.886751345948129\n",
      "Std. deviation of sample mean = 2.8896275665213227\n"
     ]
    },
    {
     "data": {
      "image/png": "[encoded data removed]",
      "text/plain": [
       "<Figure size 432x288 with 1 Axes>"
      ]
     },
     "metadata": {
      "needs_background": "light"
     },
     "output_type": "display_data"
    }
   ],
   "source": [
    "\n",
    "#if we draw a very large sample then sample mean converges in propbability to poplation mean\n",
    "rand_sample_size = 100000\n",
    "\n",
    "#parameters for a uniform distribution\n",
    "a=10\n",
    "b=20\n",
    "\n",
    "x_uni = np.random.uniform(a , b , rand_sample_size )\n",
    "\n",
    "print( x_uni[-5:-1]  )\n",
    "\n",
    "sns.distplot(x_uni)\n",
    "\n",
    "#finding population mean from which sample is drawn\n",
    "pop_mu = (a+b)/2\n",
    "pop_std =  np.sqrt( ( (a-b)**2 ) / 12 )\n",
    "\n",
    "\n",
    "print('Population mean is = ', pop_mu )\n",
    "print('Mean of sample mean = ' , np.mean( x_uni ) )\n",
    "\n",
    "print('Population standard deviation is = ', pop_std)\n",
    "print('Std. deviation of sample mean =', np.std(x_uni) )\n",
    "\n",
    "\n",
    "       "
   ]
  },
  {
   "cell_type": "code",
   "execution_count": null,
   "metadata": {},
   "outputs": [],
   "source": []
  },
  {
   "cell_type": "code",
   "execution_count": null,
   "metadata": {},
   "outputs": [],
   "source": []
  },
  {
   "cell_type": "markdown",
   "metadata": {},
   "source": [
    "# Central Limit Theorem"
   ]
  },
  {
   "cell_type": "code",
   "execution_count": null,
   "metadata": {},
   "outputs": [],
   "source": []
  },
  {
   "cell_type": "markdown",
   "metadata": {},
   "source": [
    "# Approximation using CLT"
   ]
  },
  {
   "cell_type": "markdown",
   "metadata": {},
   "source": [
    "%%latex\n",
    "Below simulation shows that sample mean denoted by $ \\bar{X} $ has property that it is approximately distributed as a normal distribution ie.$ \\bar{X} \\sim  N(\\mu, \\sigma^2 / n) $.\n",
    "\n",
    "However, if $ n  \\rightarrow \\infty $ then $ \\bar{X} $ coverges to a normal distribution."
   ]
  },
  {
   "cell_type": "code",
   "execution_count": 9,
   "metadata": {},
   "outputs": [
    {
     "name": "stdout",
     "output_type": "stream",
     "text": [
      "iid sample drawn from uniform distribution =  [12.55691983 19.58620485 10.3316812  12.68991535]\n",
      "In iteration =  0 sample mean = 14.94568065385648 \n",
      "\n",
      "iid sample drawn from uniform distribution =  [16.97307707 15.11733376 14.4888331  16.23759243]\n",
      "In iteration =  1 sample mean = 15.432675515633038 \n",
      "\n",
      "iid sample drawn from uniform distribution =  [12.43334476 17.70998478 19.1479451  17.38172229]\n",
      "In iteration =  2 sample mean = 15.153980902525038 \n",
      "\n",
      "iid sample drawn from uniform distribution =  [19.47818042 15.33986742 16.72895805 12.67962139]\n",
      "In iteration =  3 sample mean = 15.315944942020895 \n",
      "\n",
      "iid sample drawn from uniform distribution =  [19.12802365 14.47160068 12.90661996 17.40320134]\n",
      "In iteration =  4 sample mean = 14.982625307476798 \n",
      "\n",
      "iid sample drawn from uniform distribution =  [18.9654306  11.68649307 16.42737284 10.33853292]\n",
      "In iteration =  5 sample mean = 14.89113223882506 \n",
      "\n",
      "iid sample drawn from uniform distribution =  [16.51640383 13.89268863 11.02728393 13.15050208]\n",
      "In iteration =  6 sample mean = 15.430009455649154 \n",
      "\n",
      "iid sample drawn from uniform distribution =  [11.2729057  15.42897312 19.50193671 16.51411962]\n",
      "In iteration =  7 sample mean = 14.866830832119788 \n",
      "\n",
      "iid sample drawn from uniform distribution =  [15.38018295 14.70069921 12.32915033 14.1992926 ]\n",
      "In iteration =  8 sample mean = 15.024250166090754 \n",
      "\n",
      "iid sample drawn from uniform distribution =  [13.72891408 14.13217808 11.67575759 17.93238594]\n",
      "In iteration =  9 sample mean = 14.842646761979276 \n",
      "\n",
      "iid sample drawn from uniform distribution =  [16.2150914  13.26966218 19.85801141 17.97042303]\n",
      "In iteration =  10 sample mean = 14.941582657039712 \n",
      "\n",
      "iid sample drawn from uniform distribution =  [11.49138652 11.74737117 19.93762871 17.67502751]\n",
      "In iteration =  11 sample mean = 14.672942999459474 \n",
      "\n",
      "iid sample drawn from uniform distribution =  [10.49873613 10.03057707 14.53234438 14.32018281]\n",
      "In iteration =  12 sample mean = 14.86018865527958 \n",
      "\n",
      "iid sample drawn from uniform distribution =  [12.83939952 19.93123457 12.24219559 11.08656407]\n",
      "In iteration =  13 sample mean = 14.886339064661577 \n",
      "\n",
      "iid sample drawn from uniform distribution =  [19.1327367  13.62606547 11.64926289 11.57255182]\n",
      "In iteration =  14 sample mean = 14.581879021241445 \n",
      "\n",
      "iid sample drawn from uniform distribution =  [17.70871587 11.40124305 17.66791667 13.30278806]\n",
      "In iteration =  15 sample mean = 15.00633302569094 \n",
      "\n",
      "iid sample drawn from uniform distribution =  [18.35588431 10.03341072 16.19774366 18.70062144]\n",
      "In iteration =  16 sample mean = 15.207823888574767 \n",
      "\n",
      "iid sample drawn from uniform distribution =  [13.99036853 11.92824089 10.65994205 19.987903  ]\n",
      "In iteration =  17 sample mean = 15.218180487857563 \n",
      "\n",
      "iid sample drawn from uniform distribution =  [16.91033781 17.59039762 19.40239112 19.56469161]\n",
      "In iteration =  18 sample mean = 14.904130888967508 \n",
      "\n",
      "iid sample drawn from uniform distribution =  [17.62764782 19.76753354 17.28625066 13.81468334]\n",
      "In iteration =  19 sample mean = 15.031861820279026 \n",
      "\n",
      "iid sample drawn from uniform distribution =  [19.72529698 10.81282064 12.82621189 10.27128234]\n",
      "In iteration =  20 sample mean = 14.633364732913567 \n",
      "\n",
      "iid sample drawn from uniform distribution =  [19.51794357 18.7119662  15.3419706  19.55072367]\n",
      "In iteration =  21 sample mean = 15.239236858835138 \n",
      "\n",
      "iid sample drawn from uniform distribution =  [19.01754397 11.45218939 11.40513642 18.59674237]\n",
      "In iteration =  22 sample mean = 14.197054112016724 \n",
      "\n",
      "iid sample drawn from uniform distribution =  [18.89509649 15.00905248 16.23430209 16.1826372 ]\n",
      "In iteration =  23 sample mean = 15.215260972476283 \n",
      "\n",
      "iid sample drawn from uniform distribution =  [14.52332617 10.83486831 15.35482005 16.46878094]\n",
      "In iteration =  24 sample mean = 14.920800110233756 \n",
      "\n",
      "iid sample drawn from uniform distribution =  [10.27832027 19.55380925 16.52369066 18.79579079]\n",
      "In iteration =  25 sample mean = 15.510304259314838 \n",
      "\n",
      "iid sample drawn from uniform distribution =  [13.67291027 11.24238973 15.61839559 18.45703958]\n",
      "In iteration =  26 sample mean = 14.794770321346048 \n",
      "\n",
      "iid sample drawn from uniform distribution =  [15.494712   12.2302279  14.1206017  14.64540308]\n",
      "In iteration =  27 sample mean = 15.115161497956818 \n",
      "\n",
      "iid sample drawn from uniform distribution =  [10.98641095 17.28923747 10.71820013 19.24581329]\n",
      "In iteration =  28 sample mean = 14.908815531805674 \n",
      "\n",
      "iid sample drawn from uniform distribution =  [13.97786139 15.91500168 11.25848053 14.36535475]\n",
      "In iteration =  29 sample mean = 14.865653161707547 \n",
      "\n",
      "iid sample drawn from uniform distribution =  [17.05334938 19.10950583 17.73248213 17.13135664]\n",
      "In iteration =  30 sample mean = 15.50968294182902 \n",
      "\n",
      "iid sample drawn from uniform distribution =  [17.16830728 13.23553567 19.77521462 18.90740666]\n",
      "In iteration =  31 sample mean = 15.482946981722788 \n",
      "\n",
      "iid sample drawn from uniform distribution =  [11.38466983 12.66238009 17.26221643 12.44922778]\n",
      "In iteration =  32 sample mean = 14.991223001302929 \n",
      "\n",
      "iid sample drawn from uniform distribution =  [19.60346039 17.79074263 10.18919066 10.13440129]\n",
      "In iteration =  33 sample mean = 14.673502095198923 \n",
      "\n",
      "iid sample drawn from uniform distribution =  [12.14392477 18.53435684 15.47822157 15.77602075]\n",
      "In iteration =  34 sample mean = 15.394939812077773 \n",
      "\n",
      "iid sample drawn from uniform distribution =  [17.44491575 18.32694782 17.19206598 14.19683716]\n",
      "In iteration =  35 sample mean = 15.35086355712379 \n",
      "\n",
      "iid sample drawn from uniform distribution =  [13.40247524 18.4817232  14.7127478  11.25387301]\n",
      "In iteration =  36 sample mean = 15.086581192173638 \n",
      "\n",
      "iid sample drawn from uniform distribution =  [18.37932401 16.17829695 18.83372948 17.10987669]\n",
      "In iteration =  37 sample mean = 15.27616534944282 \n",
      "\n",
      "iid sample drawn from uniform distribution =  [17.90348095 18.37252336 18.90038735 18.68145402]\n",
      "In iteration =  38 sample mean = 14.999922871376052 \n",
      "\n",
      "iid sample drawn from uniform distribution =  [16.40324028 10.57505285 12.9594999  16.63411951]\n",
      "In iteration =  39 sample mean = 15.254935031535599 \n",
      "\n",
      "iid sample drawn from uniform distribution =  [13.98286037 19.23403013 19.53197824 16.82286661]\n",
      "In iteration =  40 sample mean = 15.547092492866367 \n",
      "\n",
      "iid sample drawn from uniform distribution =  [14.06668653 10.34515786 15.22898171 17.90620384]\n",
      "In iteration =  41 sample mean = 15.116454992969432 \n",
      "\n",
      "iid sample drawn from uniform distribution =  [15.06628459 12.47236761 11.66528384 13.04110655]\n",
      "In iteration =  42 sample mean = 14.912111257563547 \n",
      "\n",
      "iid sample drawn from uniform distribution =  [11.95110154 13.22684549 15.11804344 14.39694495]\n",
      "In iteration =  43 sample mean = 14.524086040821736 \n",
      "\n",
      "iid sample drawn from uniform distribution =  [11.05205448 19.18538013 13.09502104 11.29163891]\n",
      "In iteration =  44 sample mean = 15.322408010087905 \n",
      "\n",
      "iid sample drawn from uniform distribution =  [15.97412701 14.11976532 10.40448805 18.89007451]\n",
      "In iteration =  45 sample mean = 14.965267254972577 \n",
      "\n",
      "iid sample drawn from uniform distribution =  [12.99286209 19.52710561 14.81004894 10.28126127]\n",
      "In iteration =  46 sample mean = 14.974198100050637 \n",
      "\n",
      "iid sample drawn from uniform distribution =  [10.9843054  19.56833821 14.37652692 14.12932615]\n",
      "In iteration =  47 sample mean = 15.057297872605131 \n",
      "\n",
      "iid sample drawn from uniform distribution =  [12.45233536 11.70729457 18.73210469 18.99166522]\n",
      "In iteration =  48 sample mean = 14.877118834292022 \n",
      "\n",
      "iid sample drawn from uniform distribution =  [11.80810781 19.6757969  10.49585902 12.62986092]\n",
      "In iteration =  49 sample mean = 14.974361900830006 \n",
      "\n",
      "iid sample drawn from uniform distribution =  [11.875725   14.19203057 19.84191387 17.01422484]\n",
      "In iteration =  50 sample mean = 15.201092511961226 \n",
      "\n",
      "iid sample drawn from uniform distribution =  [14.3447161  11.05484982 12.49533797 10.51354024]\n",
      "In iteration =  51 sample mean = 15.447535395184673 \n",
      "\n",
      "iid sample drawn from uniform distribution =  [12.75149811 16.54556011 17.98910106 15.18883442]\n",
      "In iteration =  52 sample mean = 14.889092469258038 \n",
      "\n",
      "iid sample drawn from uniform distribution =  [14.54927684 12.94353793 13.86236508 13.62013086]\n",
      "In iteration =  53 sample mean = 15.593281202753728 \n",
      "\n",
      "iid sample drawn from uniform distribution =  [10.70402407 18.38554756 18.18915163 13.22100745]\n",
      "In iteration =  54 sample mean = 15.236912859852227 \n",
      "\n",
      "iid sample drawn from uniform distribution =  [12.23248917 12.18416145 15.46717474 18.88195538]\n",
      "In iteration =  55 sample mean = 14.617781352508212 \n",
      "\n",
      "iid sample drawn from uniform distribution =  [19.16847172 18.75752007 13.08169529 18.03958945]\n",
      "In iteration =  56 sample mean = 15.024360569612622 \n",
      "\n",
      "iid sample drawn from uniform distribution =  [10.25280324 14.39122738 18.4167654  17.20124149]\n",
      "In iteration =  57 sample mean = 15.301602328284218 \n",
      "\n",
      "iid sample drawn from uniform distribution =  [13.12348361 10.77329655 11.00306676 10.55161157]\n",
      "In iteration =  58 sample mean = 15.034937395313369 \n",
      "\n",
      "iid sample drawn from uniform distribution =  [15.53421414 10.47329561 10.68672448 18.31072196]\n",
      "In iteration =  59 sample mean = 14.919205004484633 \n",
      "\n",
      "iid sample drawn from uniform distribution =  [12.87846682 14.06764594 13.86187809 11.87821491]\n",
      "In iteration =  60 sample mean = 15.059113399637168 \n",
      "\n",
      "iid sample drawn from uniform distribution =  [16.29347617 12.96969145 16.57265115 19.74577424]\n",
      "In iteration =  61 sample mean = 15.325536002813976 \n",
      "\n",
      "iid sample drawn from uniform distribution =  [13.34635054 18.00873759 11.18419517 15.97726187]\n",
      "In iteration =  62 sample mean = 15.19402585466887 \n",
      "\n",
      "iid sample drawn from uniform distribution =  [13.49682942 15.89676777 13.44876637 13.67089118]\n",
      "In iteration =  63 sample mean = 15.109966134945232 \n",
      "\n",
      "iid sample drawn from uniform distribution =  [12.04032899 11.32491478 19.30116633 10.02317797]\n",
      "In iteration =  64 sample mean = 14.580820224075813 \n",
      "\n",
      "iid sample drawn from uniform distribution =  [13.2490214  15.54718079 13.03936221 15.51394127]\n",
      "In iteration =  65 sample mean = 15.084971416926852 \n",
      "\n",
      "iid sample drawn from uniform distribution =  [16.42451406 12.19141349 19.47296954 18.46791059]\n",
      "In iteration =  66 sample mean = 15.070387237356895 \n",
      "\n",
      "iid sample drawn from uniform distribution =  [12.55504696 16.12580598 12.04361217 19.03566172]\n",
      "In iteration =  67 sample mean = 15.243865638152606 \n",
      "\n",
      "iid sample drawn from uniform distribution =  [18.32896384 19.34563963 12.11989081 15.2181134 ]\n",
      "In iteration =  68 sample mean = 15.196074648926844 \n",
      "\n",
      "iid sample drawn from uniform distribution =  [13.46678037 19.5636223  16.5018352  15.51331558]\n",
      "In iteration =  69 sample mean = 15.39815697544553 \n",
      "\n",
      "iid sample drawn from uniform distribution =  [11.37633576 11.39183194 11.55746143 17.51539253]\n",
      "In iteration =  70 sample mean = 15.022932302490323 \n",
      "\n",
      "iid sample drawn from uniform distribution =  [15.64191267 17.11584705 16.46887671 14.04746458]\n",
      "In iteration =  71 sample mean = 14.730140967684411 \n",
      "\n",
      "iid sample drawn from uniform distribution =  [13.32404185 14.91695032 17.95840909 10.04043478]\n",
      "In iteration =  72 sample mean = 15.162223944063816 \n",
      "\n",
      "iid sample drawn from uniform distribution =  [13.84920285 14.08894895 19.33838959 14.67060267]\n",
      "In iteration =  73 sample mean = 15.2131807265178 \n",
      "\n",
      "iid sample drawn from uniform distribution =  [10.50961865 16.02859523 11.42963516 19.69469352]\n",
      "In iteration =  74 sample mean = 14.972376222281865 \n",
      "\n",
      "iid sample drawn from uniform distribution =  [12.96369355 13.90013476 18.37257534 15.59665901]\n",
      "In iteration =  75 sample mean = 14.711926207769089 \n",
      "\n",
      "iid sample drawn from uniform distribution =  [11.06913554 13.49113983 10.21095435 14.36527583]\n",
      "In iteration =  76 sample mean = 14.885576581939917 \n",
      "\n",
      "iid sample drawn from uniform distribution =  [10.04373153 15.89524186 14.75258743 10.39781402]\n",
      "In iteration =  77 sample mean = 15.000891783406878 \n",
      "\n",
      "iid sample drawn from uniform distribution =  [14.38074671 13.4272871  13.65186518 17.97579684]\n",
      "In iteration =  78 sample mean = 15.319252782224003 \n",
      "\n",
      "iid sample drawn from uniform distribution =  [12.46498918 14.98131249 16.41312101 15.51251377]\n",
      "In iteration =  79 sample mean = 14.738742107624093 \n",
      "\n",
      "iid sample drawn from uniform distribution =  [19.32163858 13.64841987 14.6967236  11.93661009]\n",
      "In iteration =  80 sample mean = 14.618028620143232 \n",
      "\n",
      "iid sample drawn from uniform distribution =  [13.27619984 19.56523065 18.94599042 13.36956226]\n",
      "In iteration =  81 sample mean = 14.927816923129916 \n",
      "\n",
      "iid sample drawn from uniform distribution =  [14.85493319 18.84569774 15.78997344 16.55822317]\n",
      "In iteration =  82 sample mean = 14.866599014292499 \n",
      "\n",
      "iid sample drawn from uniform distribution =  [12.41882249 10.49963792 11.27151429 18.51549596]\n",
      "In iteration =  83 sample mean = 15.572144817714964 \n",
      "\n",
      "iid sample drawn from uniform distribution =  [15.5686958  18.2399541  18.92514584 10.32249742]\n",
      "In iteration =  84 sample mean = 15.275633515147197 \n",
      "\n",
      "iid sample drawn from uniform distribution =  [18.00241989 12.7521351  16.24141743 11.64363091]\n",
      "In iteration =  85 sample mean = 14.612468188043898 \n",
      "\n",
      "iid sample drawn from uniform distribution =  [12.34789814 15.40342853 18.27253977 11.21836997]\n",
      "In iteration =  86 sample mean = 14.994564120696039 \n",
      "\n",
      "iid sample drawn from uniform distribution =  [11.05907182 12.46541919 16.80302132 18.6842787 ]\n",
      "In iteration =  87 sample mean = 15.073877569506015 \n",
      "\n",
      "iid sample drawn from uniform distribution =  [17.80445883 13.39164065 12.9220689  15.85927768]\n",
      "In iteration =  88 sample mean = 15.243778848366485 \n",
      "\n",
      "iid sample drawn from uniform distribution =  [10.74042793 10.72928297 13.72230834 16.87552913]\n",
      "In iteration =  89 sample mean = 15.057796388057477 \n",
      "\n",
      "iid sample drawn from uniform distribution =  [19.92778717 19.40052029 17.22261364 16.57113669]\n",
      "In iteration =  90 sample mean = 14.958074649378101 \n",
      "\n",
      "iid sample drawn from uniform distribution =  [12.40799734 15.46071225 14.18740814 18.9500274 ]\n",
      "In iteration =  91 sample mean = 14.679859214522155 \n",
      "\n",
      "iid sample drawn from uniform distribution =  [11.09844601 15.56763486 14.32539046 17.65412224]\n",
      "In iteration =  92 sample mean = 14.546508822292934 \n",
      "\n",
      "iid sample drawn from uniform distribution =  [10.77274861 14.41567185 14.75646289 18.05983349]\n",
      "In iteration =  93 sample mean = 15.113995694981533 \n",
      "\n",
      "iid sample drawn from uniform distribution =  [17.04566524 15.98903337 15.46487128 13.12421832]\n",
      "In iteration =  94 sample mean = 14.895926571562109 \n",
      "\n",
      "iid sample drawn from uniform distribution =  [14.84238787 12.88463193 15.31776294 18.38410908]\n",
      "In iteration =  95 sample mean = 15.119250068149743 \n",
      "\n",
      "iid sample drawn from uniform distribution =  [12.50764383 14.10128776 16.07371481 11.80572755]\n",
      "In iteration =  96 sample mean = 15.233657023768894 \n",
      "\n",
      "iid sample drawn from uniform distribution =  [18.54809295 15.89930222 17.10700624 17.50793859]\n",
      "In iteration =  97 sample mean = 14.8958521404383 \n",
      "\n",
      "iid sample drawn from uniform distribution =  [15.44131156 13.26173035 15.10030701 13.8053928 ]\n",
      "In iteration =  98 sample mean = 14.449622052001137 \n",
      "\n",
      "iid sample drawn from uniform distribution =  [16.0741363  15.60606103 14.72210733 15.59412653]\n",
      "In iteration =  99 sample mean = 15.284606290671874 \n",
      "\n",
      "Population mean =  15.0 Sampling distri. mean = 15.035946432157067 \n",
      "\n",
      "Population var/size of random sample =  0.08333333333333334 Sampling distri. var = 0.07284134611633095\n"
     ]
    }
   ],
   "source": [
    "#size of each random sample drawn from population\n",
    "rand_sample_size = 100\n",
    "\n",
    "#number of samples to be drawn from the population\n",
    "number_of_samples = 100\n",
    "\n",
    "# a list containing value sample means obtained by doing several iterations (or taking numerous samples)\n",
    "sample_mean_list = []\n",
    "\n",
    "for iter in range( number_of_samples ) :\n",
    "    \n",
    "    #parameters for a uniform distribution\n",
    "    a=10\n",
    "    b=20\n",
    "\n",
    "    x_uni = np.random.uniform(a , b , rand_sample_size )\n",
    "\n",
    "    print( 'iid sample drawn from uniform distribution = ',  x_uni[-5:-1]  )\n",
    "\n",
    "    print('In iteration = ' , iter, 'sample mean =', np.mean( x_uni ) , '\\n'  )\n",
    "    \n",
    "    sample_mean_list.append( np.mean( x_uni )  )\n",
    "    \n",
    "\n",
    "#finding population mean from which sample is drawn\n",
    "pop_mu = (a+b)/2\n",
    "pop_var =  ( (a-b)**2 ) / 12 \n",
    "    \n",
    "    \n",
    "# sample mean properties\n",
    "sampling_distri_mu = np.mean( sample_mean_list)\n",
    "sampling_distri_var = np.var( sample_mean_list )\n",
    "\n",
    "\n",
    "print('Population mean = ', pop_mu, 'Sampling distri. mean =' , sampling_distri_mu ,'\\n' )\n",
    "\n",
    "print('Population var/size of random sample = ', pop_var/rand_sample_size , 'Sampling distri. var =' , sampling_distri_var )\n",
    "    \n",
    "   \n",
    "    "
   ]
  },
  {
   "cell_type": "code",
   "execution_count": 10,
   "metadata": {},
   "outputs": [
    {
     "data": {
      "text/plain": [
       "<matplotlib.axes._subplots.AxesSubplot at 0x254e6247080>"
      ]
     },
     "execution_count": 10,
     "metadata": {},
     "output_type": "execute_result"
    },
    {
     "data": {
      "image/png": "[encoded data removed]",
      "text/plain": [
       "<Figure size 432x288 with 1 Axes>"
      ]
     },
     "metadata": {
      "needs_background": "light"
     },
     "output_type": "display_data"
    }
   ],
   "source": [
    "#plotting sampling distribution of sample mean\n",
    "sns.distplot(sample_mean_list) "
   ]
  },
  {
   "cell_type": "code",
   "execution_count": null,
   "metadata": {},
   "outputs": [],
   "source": []
  },
  {
   "cell_type": "markdown",
   "metadata": {},
   "source": [
    "%%latex\n",
    "We see clearly that as $ n \\rightarrow \\infty $ the variance of $ \\bar{X} $ decreases while the expected value remains the same"
   ]
  },
  {
   "cell_type": "code",
   "execution_count": 11,
   "metadata": {},
   "outputs": [
    {
     "data": {
      "image/png": "[encoded data removed]",
      "text/plain": [
       "<Figure size 720x720 with 1 Axes>"
      ]
     },
     "metadata": {
      "needs_background": "light"
     },
     "output_type": "display_data"
    }
   ],
   "source": [
    "#size of each random sample drawn from population\n",
    "sample_size_list = [10, 100, 1000, 10000 ] \n",
    "\n",
    "plt.figure(figsize= ( 10,10))\n",
    "\n",
    "for rand_sample_size in sample_size_list :\n",
    "    \n",
    "\n",
    "    #number of samples to be drawn from the population\n",
    "    number_of_samples = 100\n",
    "\n",
    "    # a list containing value sample means obtained by doing several iterations (or taking numerous samples)\n",
    "    sample_mean_list = []\n",
    "\n",
    "    for iter in range( number_of_samples ) :\n",
    "\n",
    "        #parameters for a uniform distribution\n",
    "        a=10\n",
    "        b=20\n",
    "\n",
    "        x_uni = np.random.uniform(a , b , rand_sample_size )\n",
    "\n",
    "        sample_mean_list.append( np.mean( x_uni )  )\n",
    "        \n",
    "        \n",
    "    # plotting sampling distribution of sample mean\n",
    "    ax = sns.distplot(sample_mean_list , hist= False , label= rand_sample_size)\n",
    "    ax.set( xlim= (13, 17 ) )\n",
    "    ax.set( xlabel = 'sample mean')"
   ]
  },
  {
   "cell_type": "code",
   "execution_count": null,
   "metadata": {},
   "outputs": [],
   "source": []
  },
  {
   "cell_type": "markdown",
   "metadata": {},
   "source": [
    "# Asymptotic Distributions using CLT"
   ]
  },
  {
   "cell_type": "markdown",
   "metadata": {},
   "source": [
    "%%latex\n",
    "Note that as $ n  \\rightarrow \\infty $ then $ \\bar{X} $ coverges to a normal distribution.\n"
   ]
  },
  {
   "cell_type": "markdown",
   "metadata": {},
   "source": [
    "Note both size of sample drawn from an underlying sample as well as the number of samples \n",
    "should be large for CLT to hold true "
   ]
  },
  {
   "cell_type": "code",
   "execution_count": 12,
   "metadata": {},
   "outputs": [
    {
     "name": "stdout",
     "output_type": "stream",
     "text": [
      "Population mean =  15.0 , Sampling distri. mean = 15.000020808743436 \n",
      "\n",
      "Population var/size of random sample =  8.333333333333334e-05 , Sampling distri. var = 8.36771718416212e-05\n"
     ]
    },
    {
     "data": {
      "text/plain": [
       "<matplotlib.axes._subplots.AxesSubplot at 0x254e62e3be0>"
      ]
     },
     "execution_count": 12,
     "metadata": {},
     "output_type": "execute_result"
    },
    {
     "data": {
      "image/png": "[encoded data removed]",
      "text/plain": [
       "<Figure size 432x288 with 1 Axes>"
      ]
     },
     "metadata": {
      "needs_background": "light"
     },
     "output_type": "display_data"
    }
   ],
   "source": [
    "#size of each random sample drawn from population\n",
    "rand_sample_size = 100000\n",
    "\n",
    "#number of samples to be drawn from the population\n",
    "number_of_samples = 10000\n",
    "\n",
    "# a list containing value sample means obtained by doing several iterations (or taking numerous samples)\n",
    "sample_mean_list = []\n",
    "\n",
    "for iter in range( number_of_samples ) :\n",
    "    \n",
    "    #parameters for a uniform distribution\n",
    "    a=10\n",
    "    b=20\n",
    "\n",
    "    x_uni = np.random.uniform(a , b , rand_sample_size )\n",
    "\n",
    "    #print( 'iid sample drawn from uniform distribution = ',  x_uni[-5:-1]  )\n",
    "\n",
    "    #print('In iteration = ' , iter, 'sample mean =', np.mean( x_uni ) , '\\n'  )\n",
    "    \n",
    "    sample_mean_list.append( np.mean( x_uni )  )\n",
    "    \n",
    "\n",
    "#finding population mean from which sample is drawn\n",
    "pop_mu = (a+b)/2\n",
    "pop_var =  ( (a-b)**2 ) / 12 \n",
    "    \n",
    "    \n",
    "# sample mean properties\n",
    "sampling_distri_mu = np.mean( sample_mean_list)\n",
    "sampling_distri_var = np.var( sample_mean_list )\n",
    "\n",
    "\n",
    "print('Population mean = ', pop_mu, ', Sampling distri. mean =' , sampling_distri_mu ,'\\n' )\n",
    "\n",
    "print('Population var/size of random sample = ', pop_var/rand_sample_size , ', Sampling distri. var =' , sampling_distri_var )\n",
    "    \n",
    "#plotting sampling distribution of sample mean\n",
    "sns.distplot(sample_mean_list)    "
   ]
  },
  {
   "cell_type": "code",
   "execution_count": null,
   "metadata": {},
   "outputs": [],
   "source": []
  },
  {
   "cell_type": "markdown",
   "metadata": {},
   "source": [
    "%%latex\n",
    "Using CLT and following simulation, we show that the distribution of the standardized sample mean follows a standard normal distribution\n",
    "\n",
    "i.e. $ \\frac {\\bar{X} - \\mu} { \\frac{\\sigma}{\\sqrt{n} } }  \\sim N(0,1) $\n",
    "\n",
    "Also, note that in order to compute above use the popuation mean $ \\mu$ and population std deviation $\\sigma$"
   ]
  },
  {
   "cell_type": "code",
   "execution_count": 13,
   "metadata": {},
   "outputs": [
    {
     "name": "stdout",
     "output_type": "stream",
     "text": [
      " Mean of standardized sampling distribution =  0.006590423810796168\n",
      " Variance of standardized sampling distribution =  0.9795649980477923\n"
     ]
    },
    {
     "data": {
      "text/plain": [
       "<matplotlib.axes._subplots.AxesSubplot at 0x254e63e4358>"
      ]
     },
     "execution_count": 13,
     "metadata": {},
     "output_type": "execute_result"
    },
    {
     "data": {
      "image/png": "[encoded data removed]",
      "text/plain": [
       "<Figure size 432x288 with 1 Axes>"
      ]
     },
     "metadata": {
      "needs_background": "light"
     },
     "output_type": "display_data"
    }
   ],
   "source": [
    "#size of each random sample drawn from population\n",
    "rand_sample_size = 100000\n",
    "\n",
    "#number of samples to be drawn from the population\n",
    "number_of_samples = 10000\n",
    "\n",
    "# a list containing value sample means obtained by doing several iterations (or taking numerous samples)\n",
    "standard_sample_mean_list = []\n",
    "\n",
    "#parameters for a uniform distribution\n",
    "a=10\n",
    "b=20\n",
    "\n",
    "#finding population mean from which sample is drawn\n",
    "pop_mu = (a+b)/2\n",
    "pop_var =  ( (a-b)**2 ) / 12 \n",
    "    \n",
    "\n",
    "for iter in range( number_of_samples ) :\n",
    "\n",
    "    x_uni = np.random.uniform(a , b , rand_sample_size )\n",
    "\n",
    "    #print( 'iid sample drawn from uniform distribution = ',  x_uni[-5:-1]  )\n",
    "\n",
    "    #print('In iteration = ' , iter, 'sample mean =', np.mean( x_uni ) , '\\n'  )\n",
    "    \n",
    "    numr = np.mean( x_uni ) - pop_mu\n",
    "    \n",
    "    denr = np.sqrt(pop_var) / np.sqrt(rand_sample_size)\n",
    "    \n",
    "    standard_sample_mean_list.append(  numr / denr  )\n",
    "    \n",
    "\n",
    "\n",
    "    \n",
    "# sample mean properties\n",
    "standard_sampling_distri_mu = np.mean( standard_sample_mean_list) \n",
    "standard_sampling_distri_var = np.var( standard_sample_mean_list)\n",
    "\n",
    "\n",
    "print(' Mean of standardized sampling distribution = ' , standard_sampling_distri_mu )\n",
    "print(' Variance of standardized sampling distribution = ' , standard_sampling_distri_var )\n",
    "\n",
    "#print('Population mean = ', pop_mu, ', Sampling distri. mean =' , sampling_distri_mu ,'\\n' )\n",
    "#print('Population var/size of random sample = ', pop_var/rand_sample_size , ', Sampling distri. var =' , sampling_distri_var )\n",
    "\n",
    "\n",
    "#plotting sampling distribution of sample mean\n",
    "sns.distplot( standard_sample_mean_list )"
   ]
  },
  {
   "cell_type": "code",
   "execution_count": null,
   "metadata": {},
   "outputs": [],
   "source": []
  }
 ],
 "metadata": {
  "kernelspec": {
   "display_name": "Python 3",
   "language": "python",
   "name": "python3"
  },
  "language_info": {
   "codemirror_mode": {
    "name": "ipython",
    "version": 3
   },
   "file_extension": ".py",
   "mimetype": "text/x-python",
   "name": "python",
   "nbconvert_exporter": "python",
   "pygments_lexer": "ipython3",
   "version": "3.7.1"
  }
 },
 "nbformat": 4,
 "nbformat_minor": 2
}
