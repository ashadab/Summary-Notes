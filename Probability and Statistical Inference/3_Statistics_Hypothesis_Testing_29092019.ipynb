{
 "cells": [
  {
   "cell_type": "code",
   "execution_count": 1,
   "metadata": {},
   "outputs": [],
   "source": [
    "import numpy as np\n",
    "import seaborn as sns\n",
    "import matplotlib.pyplot as plt\n",
    "import scipy as st\n",
    "\n",
    "%matplotlib inline"
   ]
  },
  {
   "cell_type": "code",
   "execution_count": null,
   "metadata": {},
   "outputs": [],
   "source": []
  },
  {
   "cell_type": "markdown",
   "metadata": {},
   "source": [
    "# Distribution of Sample variance\n",
    "If you are using numpy then do remember to use ddof=1 while computing sample variance/sample standard deviation. "
   ]
  },
  {
   "cell_type": "markdown",
   "metadata": {},
   "source": [
    "Sample variance $s^2$ = $  \\frac {\\sum(x-\\bar{x})^2} {n-1} $\n",
    "\n",
    "A test statistic defined as $T$ follows $\\chi^2$ distribution  , $T$ = $ \\frac {s^2 * (n-1)} {\\sigma^2} \\sim \\chi^2_{n-1}$ where $n$ is sample size and $n-1$ is degree of freedom , $s^2$ is the sample variance and $\\sigma^2 $ is the population variance"
   ]
  },
  {
   "cell_type": "code",
   "execution_count": 2,
   "metadata": {},
   "outputs": [
    {
     "name": "stdout",
     "output_type": "stream",
     "text": [
      "Degree of freedom =  49\n",
      "48.953434756012534\n",
      "41.150106170270874\n"
     ]
    },
    {
     "name": "stderr",
     "output_type": "stream",
     "text": [
      "C:\\Users\\abc\\Anaconda3\\lib\\site-packages\\scipy\\stats\\stats.py:1713: FutureWarning: Using a non-tuple sequence for multidimensional indexing is deprecated; use `arr[tuple(seq)]` instead of `arr[seq]`. In the future this will be interpreted as an array index, `arr[np.array(seq)]`, which will result either in an error or a different result.\n",
      "  return np.add.reduce(sorted[indexer] * weights, axis=axis) / sumval\n"
     ]
    },
    {
     "data": {
      "image/png": "[encoded data removed]",
      "text/plain": [
       "<Figure size 432x288 with 1 Axes>"
      ]
     },
     "metadata": {
      "needs_background": "light"
     },
     "output_type": "display_data"
    }
   ],
   "source": [
    "# Calculating sample standard deviation\n",
    "a= 4\n",
    "b= 8\n",
    "sample_size = 50\n",
    "chi_statistic= []\n",
    "\n",
    "for iter in range(10000):\n",
    "    \n",
    "    x_rand = np.random.uniform(low= a, high= b, size = sample_size)\n",
    "\n",
    "    n= len(x_rand)\n",
    "\n",
    "    xp = x_rand - np.mean(x_rand)\n",
    "\n",
    "    deviation_square = [ g**2 for g in xp ]\n",
    "\n",
    "    std_1 = np.sqrt ( sum( deviation_square )  /  ( n -1 )   )\n",
    "\n",
    "    # it is important to use ddof=1 since we are computing standard deviation of sample\n",
    "    x_std = np.std(x_rand,ddof=1 )\n",
    "\n",
    "    #print(x_std)\n",
    "    #print(std_1)\n",
    "\n",
    "    num= std_1**2  * (n-1) \n",
    "    den = ( (a-b)**2 ) /12\n",
    "\n",
    "    chi_inter = num / den\n",
    "    chi_statistic.append( chi_inter  )\n",
    "\n",
    "# plotting the histogram    \n",
    "sns.distplot(chi_statistic, hist= False)\n",
    "\n",
    "# mean of chi-square distribution is equal to degree of freedom\n",
    "print('Degree of freedom = ', n-1 )\n",
    "print (np.mean(chi_statistic)  )\n",
    "\n",
    "#DOUBT.... variance should be equal to 2*dof.. but that is not happening\n",
    "print (np.var(chi_statistic, ddof=1)  )\n",
    "\n"
   ]
  },
  {
   "cell_type": "code",
   "execution_count": null,
   "metadata": {},
   "outputs": [],
   "source": []
  },
  {
   "cell_type": "code",
   "execution_count": null,
   "metadata": {},
   "outputs": [],
   "source": []
  },
  {
   "cell_type": "markdown",
   "metadata": {},
   "source": [
    "# Confidence interval and Hypothesis Testing"
   ]
  },
  {
   "cell_type": "code",
   "execution_count": null,
   "metadata": {},
   "outputs": [],
   "source": []
  },
  {
   "cell_type": "code",
   "execution_count": 4,
   "metadata": {},
   "outputs": [],
   "source": [
    "import scipy.stats as st\n",
    "\n",
    "conf_inter = st.norm.interval( alpha= 0.05, loc= 0, scale = 1 )\n",
    "\n",
    "lower = conf_inter[0]\n",
    "upper = conf_inter[1]"
   ]
  },
  {
   "cell_type": "code",
   "execution_count": null,
   "metadata": {},
   "outputs": [],
   "source": []
  },
  {
   "cell_type": "code",
   "execution_count": 5,
   "metadata": {},
   "outputs": [
    {
     "data": {
      "text/plain": [
       "<matplotlib.axes._subplots.AxesSubplot at 0x2aaceb5bda0>"
      ]
     },
     "execution_count": 5,
     "metadata": {},
     "output_type": "execute_result"
    },
    {
     "data": {
      "image/png": "[encoded data removed]",
      "text/plain": [
       "<Figure size 432x288 with 1 Axes>"
      ]
     },
     "metadata": {
      "needs_background": "light"
     },
     "output_type": "display_data"
    }
   ],
   "source": [
    "#size of each random sample drawn from population\n",
    "rand_sample_size = 100\n",
    "\n",
    "#number of samples to be drawn from the population\n",
    "number_of_samples = 100\n",
    "\n",
    "#parameters for a uniform distribution\n",
    "a=10\n",
    "b=20\n",
    "\n",
    "\n",
    "#finding population mean from which sample is drawn\n",
    "pop_mu = (a+b)/2\n",
    "pop_var =  ( (a-b)**2 ) / 12 \n",
    "pop_std = np.sqrt( pop_var  )\n",
    "\n",
    "# a list containing value sample means obtained by doing several iterations (or taking numerous samples)\n",
    "sample_mean_list = []\n",
    "\n",
    "\n",
    "for iter in range( number_of_samples ) :\n",
    "    \n",
    "    \n",
    "    x_uni = np.random.uniform(a , b , rand_sample_size )\n",
    "    \n",
    "    samp_mean_value = np.mean( x_uni ) \n",
    "    \n",
    "    # constructing a 95% confidence interval\n",
    "    conf_lower = samp_mean_value - (2* pop_std)/np.sqrt(n) \n",
    "    conf_upper = samp_mean_value + (2* pop_std)/np.sqrt(n) \n",
    "    \n",
    "    \n",
    "    sample_mean_list.append(   samp_mean_value  )\n",
    "    \n",
    "    \n",
    "    \n",
    "# sample mean properties\n",
    "sampling_distri_mu = np.mean( sample_mean_list)\n",
    "sampling_distri_var = np.var( sample_mean_list )\n",
    "\n",
    "    \n",
    "#plotting sampling distribution of sample mean\n",
    "sns.distplot(sample_mean_list)    \n",
    "    "
   ]
  },
  {
   "cell_type": "code",
   "execution_count": null,
   "metadata": {},
   "outputs": [],
   "source": []
  },
  {
   "cell_type": "markdown",
   "metadata": {},
   "source": [
    "## t-statistic : Finding confidence interval for population mean using t statistic"
   ]
  },
  {
   "cell_type": "code",
   "execution_count": 6,
   "metadata": {},
   "outputs": [],
   "source": [
    "import numpy as np\n",
    "import seaborn as sns\n",
    "import pandas as pd\n",
    "import matplotlib.pyplot as plt"
   ]
  },
  {
   "cell_type": "code",
   "execution_count": 7,
   "metadata": {},
   "outputs": [],
   "source": [
    "import scipy.stats as st"
   ]
  },
  {
   "cell_type": "code",
   "execution_count": 8,
   "metadata": {},
   "outputs": [
    {
     "data": {
      "text/plain": [
       "[(-20, 20)]"
      ]
     },
     "execution_count": 8,
     "metadata": {},
     "output_type": "execute_result"
    },
    {
     "data": {
      "image/png": "[encoded data removed]",
      "text/plain": [
       "<Figure size 720x360 with 1 Axes>"
      ]
     },
     "metadata": {
      "needs_background": "light"
     },
     "output_type": "display_data"
    }
   ],
   "source": [
    "dof_series = [ 1,2,5]\n",
    "\n",
    "t_stat =  st.t.rvs(10,size = 5000)\n",
    "\n",
    "plt.figure(figsize= ( 10,5))\n",
    "\n",
    "\n",
    "for x in dof_series:\n",
    "    \n",
    "    t_stat =  st.t.rvs(x ,size = 5000)\n",
    "    \n",
    "    ax = sns.distplot(t_stat, hist= False, label = x)\n",
    "\n",
    "ax.set( xlim=(-20,20) )    "
   ]
  },
  {
   "cell_type": "code",
   "execution_count": 9,
   "metadata": {},
   "outputs": [
    {
     "data": {
      "text/plain": [
       "1.3721836411102863"
      ]
     },
     "execution_count": 9,
     "metadata": {},
     "output_type": "execute_result"
    }
   ],
   "source": [
    "#finding critical value for t-distribution\n",
    "st.t.ppf(0.9,10)"
   ]
  },
  {
   "cell_type": "code",
   "execution_count": null,
   "metadata": {},
   "outputs": [],
   "source": []
  },
  {
   "cell_type": "code",
   "execution_count": 10,
   "metadata": {},
   "outputs": [
    {
     "name": "stdout",
     "output_type": "stream",
     "text": [
      "[178319332689326.4, 178319305982075.03, 178319279274825.62, 178307234509198.22, 2853060609208781.0]\n",
      "3566325761664206.0\n",
      "29859361.01821423\n",
      "29859361.01821423\n"
     ]
    }
   ],
   "source": [
    "# Calculating sample standard deviation\n",
    "x_rand = [1,2,3,454, 66767676]\n",
    "xp = x_rand - np.mean(x_rand)\n",
    "\n",
    "deviation_square = [ g**2 for g in xp ]\n",
    "\n",
    "print(deviation_square)\n",
    "\n",
    "print( sum( deviation_square )  )\n",
    "\n",
    "std_1 = np.sqrt ( sum( deviation_square )  /  ( len(x_rand) -1 )   )\n",
    "\n",
    "# it is important to use ddof=1 since we are computing standard deviation of sample\n",
    "x_std = np.std(x_rand,ddof=1 )\n",
    "\n",
    "print(x_std)\n",
    "print(std_1)\n"
   ]
  },
  {
   "cell_type": "code",
   "execution_count": 11,
   "metadata": {},
   "outputs": [
    {
     "name": "stdout",
     "output_type": "stream",
     "text": [
      "For confidence level = 90.0 %,  confidence interval =  (5.823623869961219, 8.567991152181792)\n",
      "Length of confidence interval =  2.7443672822205727 \n",
      "\n",
      "For confidence level = 95.0 %,  confidence interval =  (5.383346388260772, 9.008268633882238)\n",
      "Length of confidence interval =  3.624922245621466 \n",
      "\n",
      "For confidence level = 99.0 %,  confidence interval =  (4.432038053623616, 9.959576968519395)\n",
      "Length of confidence interval =  5.5275389148957785 \n",
      "\n"
     ]
    }
   ],
   "source": [
    "# constructing confidence intervial for the population mean using t-statistic\n",
    "\n",
    "x_rand = np.random.uniform(low= 4, high= 10, size = 10)\n",
    "\n",
    "x_bar = np.mean(x_rand)\n",
    "\n",
    "x_std = np.std(x_rand,ddof = 1)\n",
    "\n",
    "# creating ab% confidence interval\n",
    "conf= [0.90,0.95,0.99]\n",
    "\n",
    "\n",
    "for abn in conf:\n",
    "      \n",
    "    upper = x_bar + st.t.ppf(df=10, q= abn)\n",
    "    lower = x_bar - st.t.ppf(df=10, q= abn)\n",
    "\n",
    "    confi_interval = (lower, upper)\n",
    "    length_conf = upper- lower\n",
    "    \n",
    "    print('For confidence level =', abn*100 ,'%, ', 'confidence interval = ' , confi_interval )\n",
    "    print('Length of confidence interval = ', length_conf , '\\n' )\n",
    "\n"
   ]
  },
  {
   "cell_type": "code",
   "execution_count": 12,
   "metadata": {},
   "outputs": [
    {
     "data": {
      "text/plain": [
       "0.05308491334584106"
      ]
     },
     "execution_count": 12,
     "metadata": {},
     "output_type": "execute_result"
    }
   ],
   "source": [
    "st.t.cdf(x=-1.9,df=6)"
   ]
  },
  {
   "cell_type": "code",
   "execution_count": 13,
   "metadata": {},
   "outputs": [
    {
     "data": {
      "text/plain": [
       "2.022690911734728"
      ]
     },
     "execution_count": 13,
     "metadata": {},
     "output_type": "execute_result"
    }
   ],
   "source": [
    "st.t.ppf( 1-0.025, df = 39)"
   ]
  },
  {
   "cell_type": "code",
   "execution_count": 14,
   "metadata": {},
   "outputs": [
    {
     "data": {
      "text/plain": [
       "2.045229642132703"
      ]
     },
     "execution_count": 14,
     "metadata": {},
     "output_type": "execute_result"
    }
   ],
   "source": [
    "st.t.ppf( 1-0.025, df = 29)"
   ]
  },
  {
   "cell_type": "code",
   "execution_count": 15,
   "metadata": {},
   "outputs": [
    {
     "data": {
      "text/plain": [
       "0.054196121678523834"
      ]
     },
     "execution_count": 15,
     "metadata": {},
     "output_type": "execute_result"
    }
   ],
   "source": [
    "1- st.t.cdf(1.952, df = 5)"
   ]
  },
  {
   "cell_type": "code",
   "execution_count": null,
   "metadata": {},
   "outputs": [],
   "source": []
  },
  {
   "cell_type": "markdown",
   "metadata": {},
   "source": [
    "# Significane test : t-test and Z-test"
   ]
  },
  {
   "cell_type": "markdown",
   "metadata": {},
   "source": [
    "Z-test significance test is used if we know the population standard deviation ($\\sigma$) for a sample. Although, we tend to use a t-test to check for the significane when ($\\sigma$) is NOT known."
   ]
  },
  {
   "cell_type": "markdown",
   "metadata": {},
   "source": [
    "# Significance test for checking if given sample was sampled from a particualr population"
   ]
  },
  {
   "cell_type": "markdown",
   "metadata": {},
   "source": [
    "2 tail test\n",
    "\n",
    "$Ho: \\mu = \\mu_{o}$ \n",
    "\n",
    "$Ha: \\mu \\neq \\mu_{o}$ "
   ]
  },
  {
   "cell_type": "code",
   "execution_count": 16,
   "metadata": {},
   "outputs": [
    {
     "name": "stdout",
     "output_type": "stream",
     "text": [
      "10.0\n",
      "2.886751345948129\n"
     ]
    }
   ],
   "source": [
    "a= 5\n",
    "b= 15\n",
    "x_rand = np.random.uniform(a,b,100)\n",
    "\n",
    "pop_mean = (a+b)/2\n",
    "print ( pop_mean )\n",
    "\n",
    "pop_var = (a-b)**2 / 12\n",
    "print( pop_std)"
   ]
  },
  {
   "cell_type": "markdown",
   "metadata": {},
   "source": [
    "# if population standard deviation is known"
   ]
  },
  {
   "cell_type": "code",
   "execution_count": 17,
   "metadata": {},
   "outputs": [],
   "source": [
    "# Doubt"
   ]
  },
  {
   "cell_type": "code",
   "execution_count": 18,
   "metadata": {},
   "outputs": [],
   "source": [
    "# pop mean value under null hypothesis\n",
    "mu_null = 10 \n",
    "\n",
    "# user defined significance level\n",
    "significance_level = 0.05"
   ]
  },
  {
   "cell_type": "code",
   "execution_count": 42,
   "metadata": {},
   "outputs": [
    {
     "ename": "AttributeError",
     "evalue": "module 'statsmodels.stats' has no attribute 'weightstats'",
     "output_type": "error",
     "traceback": [
      "\u001b[1;31m---------------------------------------------------------------------------\u001b[0m",
      "\u001b[1;31mAttributeError\u001b[0m                            Traceback (most recent call last)",
      "\u001b[1;32m<ipython-input-42-b6cc932e25cb>\u001b[0m in \u001b[0;36m<module>\u001b[1;34m\u001b[0m\n\u001b[0;32m      5\u001b[0m \u001b[1;31m#sm.weightstats.ztest(x1 = x_rand, value = mu_null , alternative= 'two-sided' )\u001b[0m\u001b[1;33m\u001b[0m\u001b[1;33m\u001b[0m\u001b[1;33m\u001b[0m\u001b[0m\n\u001b[0;32m      6\u001b[0m \u001b[1;33m\u001b[0m\u001b[0m\n\u001b[1;32m----> 7\u001b[1;33m \u001b[0msm\u001b[0m\u001b[1;33m.\u001b[0m\u001b[0mweightstats\u001b[0m\u001b[1;33m.\u001b[0m\u001b[0mztest\u001b[0m\u001b[1;33m(\u001b[0m\u001b[0mx1\u001b[0m \u001b[1;33m=\u001b[0m \u001b[0mx_rand\u001b[0m\u001b[1;33m,\u001b[0m \u001b[0mvalue\u001b[0m \u001b[1;33m=\u001b[0m \u001b[0mmu_null\u001b[0m \u001b[1;33m,\u001b[0m \u001b[0malternative\u001b[0m\u001b[1;33m=\u001b[0m \u001b[1;34m'larger'\u001b[0m \u001b[1;33m)\u001b[0m\u001b[1;33m\u001b[0m\u001b[1;33m\u001b[0m\u001b[0m\n\u001b[0m",
      "\u001b[1;31mAttributeError\u001b[0m: module 'statsmodels.stats' has no attribute 'weightstats'"
     ]
    }
   ],
   "source": [
    "import statsmodels.stats as sm\n",
    "\n",
    "#sm.weightstats.ztest\n",
    "\n",
    "#sm.weightstats.ztest(x1 = x_rand, value = mu_null , alternative= 'two-sided' )\n",
    "\n",
    "sm.weightstats.ztest(x1 = x_rand, value = mu_null , alternative= 'larger' )"
   ]
  },
  {
   "cell_type": "code",
   "execution_count": null,
   "metadata": {},
   "outputs": [],
   "source": []
  },
  {
   "cell_type": "code",
   "execution_count": null,
   "metadata": {},
   "outputs": [],
   "source": []
  },
  {
   "cell_type": "code",
   "execution_count": 20,
   "metadata": {},
   "outputs": [
    {
     "name": "stdout",
     "output_type": "stream",
     "text": [
      "1.3007617703511405\n"
     ]
    },
    {
     "data": {
      "text/plain": [
       "0.9033299942969288"
      ]
     },
     "execution_count": 20,
     "metadata": {},
     "output_type": "execute_result"
    }
   ],
   "source": [
    "# alternative Z-test method\n",
    "\n",
    "z_test = ( np.mean(x_rand) - mu_null ) /  np.sqrt( pop_var / len(x_rand) )\n",
    "print ( z_test )\n",
    "\n",
    "import scipy.stats as st\n",
    "\n",
    "prob_num = st.norm.cdf(z_test)\n",
    "prob_num"
   ]
  },
  {
   "cell_type": "code",
   "execution_count": 21,
   "metadata": {},
   "outputs": [],
   "source": [
    "# Doubt.. how to reject the hypothesis based on greater or lesser than population mean"
   ]
  },
  {
   "cell_type": "code",
   "execution_count": 22,
   "metadata": {},
   "outputs": [
    {
     "name": "stdout",
     "output_type": "stream",
     "text": [
      "Fail to reject the null hypothesis\n"
     ]
    }
   ],
   "source": [
    "# p_value_double_tail = 2 * prob_num\n",
    "\n",
    "if z_test <= 0 :\n",
    "    \n",
    "    p_value_single_tail = prob_num\n",
    "\n",
    "else:\n",
    "    \n",
    "    p_value_single_tail = 1 - prob_num\n",
    "\n",
    "# making a decision\n",
    "\n",
    "if p_value_single_tail < significance_level :\n",
    "    \n",
    "    print('Reject the null hypothesis')\n",
    "\n",
    "else:\n",
    "    print('Fail to reject the null hypothesis')\n"
   ]
  },
  {
   "cell_type": "code",
   "execution_count": null,
   "metadata": {},
   "outputs": [],
   "source": []
  },
  {
   "cell_type": "code",
   "execution_count": null,
   "metadata": {},
   "outputs": [],
   "source": []
  },
  {
   "cell_type": "code",
   "execution_count": null,
   "metadata": {},
   "outputs": [],
   "source": []
  },
  {
   "cell_type": "code",
   "execution_count": 23,
   "metadata": {},
   "outputs": [
    {
     "name": "stdout",
     "output_type": "stream",
     "text": [
      "3.0160657927193766\n",
      "10.375497579131903\n"
     ]
    }
   ],
   "source": [
    "print ( np.std(x_rand,ddof = 1) )\n",
    "print ( np.mean(x_rand) )"
   ]
  },
  {
   "cell_type": "markdown",
   "metadata": {},
   "source": [
    "# if population standard deviation is NOT known"
   ]
  },
  {
   "cell_type": "code",
   "execution_count": 24,
   "metadata": {},
   "outputs": [
    {
     "data": {
      "text/plain": [
       "Ttest_1sampResult(statistic=-297.15698721565326, pvalue=6.878745154728384e-148)"
      ]
     },
     "execution_count": 24,
     "metadata": {},
     "output_type": "execute_result"
    }
   ],
   "source": [
    "import scipy.stats as st\n",
    "\n",
    "# user defined significance level\n",
    "significance_level = 0.05\n",
    "\n",
    "# getting result of 2 tail test by default\n",
    "#result_1 = st.ttest_1samp(x_rand, pop_mean)\n",
    "\n",
    "result_1 = st.ttest_1samp(x_rand, 100 )\n",
    "result_1"
   ]
  },
  {
   "cell_type": "code",
   "execution_count": 25,
   "metadata": {},
   "outputs": [
    {
     "name": "stdout",
     "output_type": "stream",
     "text": [
      "Reject the null hypothesis\n"
     ]
    }
   ],
   "source": [
    "p_value_double_tail = result_1[1]\n",
    "\n",
    "p_value_single_tail = p_value_double_tail / 2\n",
    "\n",
    "if p_value_double_tail < significance_level :\n",
    "    \n",
    "    print('Reject the null hypothesis')\n",
    "\n",
    "else:\n",
    "    print('Fail to reject the null hypothesis')\n",
    "    \n",
    "    \n"
   ]
  },
  {
   "cell_type": "code",
   "execution_count": null,
   "metadata": {},
   "outputs": [],
   "source": []
  },
  {
   "cell_type": "markdown",
   "metadata": {},
   "source": [
    "# Significance test for difference between population means of 2 independent random samples X and Y"
   ]
  },
  {
   "cell_type": "markdown",
   "metadata": {},
   "source": [
    "2 tail test:\n",
    "\n",
    "$Ho: \\mu_{X} - \\mu_{Y}  = 0 $ \n",
    "\n",
    "$Ha: \\mu_{X} - \\mu_{Y}  \\neq  0$ "
   ]
  },
  {
   "cell_type": "code",
   "execution_count": 26,
   "metadata": {},
   "outputs": [],
   "source": [
    "from sklearn.datasets import load_iris\n",
    "import numpy as np\n",
    "import pandas as pd"
   ]
  },
  {
   "cell_type": "code",
   "execution_count": 27,
   "metadata": {},
   "outputs": [
    {
     "data": {
      "text/plain": [
       "dict_keys(['data', 'target', 'target_names', 'DESCR', 'feature_names', 'filename'])"
      ]
     },
     "execution_count": 27,
     "metadata": {},
     "output_type": "execute_result"
    }
   ],
   "source": [
    "# Load Iris data (https://en.wikipedia.org/wiki/Iris_flower_data_set)\n",
    "iris = load_iris()\n",
    "\n",
    "iris.keys()\n"
   ]
  },
  {
   "cell_type": "code",
   "execution_count": 28,
   "metadata": {},
   "outputs": [
    {
     "data": {
      "text/plain": [
       "['sepal length (cm)',\n",
       " 'sepal width (cm)',\n",
       " 'petal length (cm)',\n",
       " 'petal width (cm)']"
      ]
     },
     "execution_count": 28,
     "metadata": {},
     "output_type": "execute_result"
    }
   ],
   "source": [
    "iris['feature_names']"
   ]
  },
  {
   "cell_type": "code",
   "execution_count": 29,
   "metadata": {},
   "outputs": [
    {
     "data": {
      "text/html": [
       "<div>\n",
       "<style scoped>\n",
       "    .dataframe tbody tr th:only-of-type {\n",
       "        vertical-align: middle;\n",
       "    }\n",
       "\n",
       "    .dataframe tbody tr th {\n",
       "        vertical-align: top;\n",
       "    }\n",
       "\n",
       "    .dataframe thead th {\n",
       "        text-align: right;\n",
       "    }\n",
       "</style>\n",
       "<table border=\"1\" class=\"dataframe\">\n",
       "  <thead>\n",
       "    <tr style=\"text-align: right;\">\n",
       "      <th></th>\n",
       "      <th>sepal length (cm)</th>\n",
       "      <th>sepal width (cm)</th>\n",
       "      <th>petal length (cm)</th>\n",
       "      <th>petal width (cm)</th>\n",
       "      <th>Species</th>\n",
       "    </tr>\n",
       "  </thead>\n",
       "  <tbody>\n",
       "    <tr>\n",
       "      <th>0</th>\n",
       "      <td>5.1</td>\n",
       "      <td>3.5</td>\n",
       "      <td>1.4</td>\n",
       "      <td>0.2</td>\n",
       "      <td>0</td>\n",
       "    </tr>\n",
       "    <tr>\n",
       "      <th>1</th>\n",
       "      <td>4.9</td>\n",
       "      <td>3.0</td>\n",
       "      <td>1.4</td>\n",
       "      <td>0.2</td>\n",
       "      <td>0</td>\n",
       "    </tr>\n",
       "    <tr>\n",
       "      <th>2</th>\n",
       "      <td>4.7</td>\n",
       "      <td>3.2</td>\n",
       "      <td>1.3</td>\n",
       "      <td>0.2</td>\n",
       "      <td>0</td>\n",
       "    </tr>\n",
       "    <tr>\n",
       "      <th>3</th>\n",
       "      <td>4.6</td>\n",
       "      <td>3.1</td>\n",
       "      <td>1.5</td>\n",
       "      <td>0.2</td>\n",
       "      <td>0</td>\n",
       "    </tr>\n",
       "    <tr>\n",
       "      <th>4</th>\n",
       "      <td>5.0</td>\n",
       "      <td>3.6</td>\n",
       "      <td>1.4</td>\n",
       "      <td>0.2</td>\n",
       "      <td>0</td>\n",
       "    </tr>\n",
       "    <tr>\n",
       "      <th>5</th>\n",
       "      <td>5.4</td>\n",
       "      <td>3.9</td>\n",
       "      <td>1.7</td>\n",
       "      <td>0.4</td>\n",
       "      <td>0</td>\n",
       "    </tr>\n",
       "    <tr>\n",
       "      <th>6</th>\n",
       "      <td>4.6</td>\n",
       "      <td>3.4</td>\n",
       "      <td>1.4</td>\n",
       "      <td>0.3</td>\n",
       "      <td>0</td>\n",
       "    </tr>\n",
       "    <tr>\n",
       "      <th>7</th>\n",
       "      <td>5.0</td>\n",
       "      <td>3.4</td>\n",
       "      <td>1.5</td>\n",
       "      <td>0.2</td>\n",
       "      <td>0</td>\n",
       "    </tr>\n",
       "    <tr>\n",
       "      <th>8</th>\n",
       "      <td>4.4</td>\n",
       "      <td>2.9</td>\n",
       "      <td>1.4</td>\n",
       "      <td>0.2</td>\n",
       "      <td>0</td>\n",
       "    </tr>\n",
       "    <tr>\n",
       "      <th>9</th>\n",
       "      <td>4.9</td>\n",
       "      <td>3.1</td>\n",
       "      <td>1.5</td>\n",
       "      <td>0.1</td>\n",
       "      <td>0</td>\n",
       "    </tr>\n",
       "    <tr>\n",
       "      <th>10</th>\n",
       "      <td>5.4</td>\n",
       "      <td>3.7</td>\n",
       "      <td>1.5</td>\n",
       "      <td>0.2</td>\n",
       "      <td>0</td>\n",
       "    </tr>\n",
       "    <tr>\n",
       "      <th>11</th>\n",
       "      <td>4.8</td>\n",
       "      <td>3.4</td>\n",
       "      <td>1.6</td>\n",
       "      <td>0.2</td>\n",
       "      <td>0</td>\n",
       "    </tr>\n",
       "    <tr>\n",
       "      <th>12</th>\n",
       "      <td>4.8</td>\n",
       "      <td>3.0</td>\n",
       "      <td>1.4</td>\n",
       "      <td>0.1</td>\n",
       "      <td>0</td>\n",
       "    </tr>\n",
       "    <tr>\n",
       "      <th>13</th>\n",
       "      <td>4.3</td>\n",
       "      <td>3.0</td>\n",
       "      <td>1.1</td>\n",
       "      <td>0.1</td>\n",
       "      <td>0</td>\n",
       "    </tr>\n",
       "    <tr>\n",
       "      <th>14</th>\n",
       "      <td>5.8</td>\n",
       "      <td>4.0</td>\n",
       "      <td>1.2</td>\n",
       "      <td>0.2</td>\n",
       "      <td>0</td>\n",
       "    </tr>\n",
       "    <tr>\n",
       "      <th>15</th>\n",
       "      <td>5.7</td>\n",
       "      <td>4.4</td>\n",
       "      <td>1.5</td>\n",
       "      <td>0.4</td>\n",
       "      <td>0</td>\n",
       "    </tr>\n",
       "    <tr>\n",
       "      <th>16</th>\n",
       "      <td>5.4</td>\n",
       "      <td>3.9</td>\n",
       "      <td>1.3</td>\n",
       "      <td>0.4</td>\n",
       "      <td>0</td>\n",
       "    </tr>\n",
       "    <tr>\n",
       "      <th>17</th>\n",
       "      <td>5.1</td>\n",
       "      <td>3.5</td>\n",
       "      <td>1.4</td>\n",
       "      <td>0.3</td>\n",
       "      <td>0</td>\n",
       "    </tr>\n",
       "    <tr>\n",
       "      <th>18</th>\n",
       "      <td>5.7</td>\n",
       "      <td>3.8</td>\n",
       "      <td>1.7</td>\n",
       "      <td>0.3</td>\n",
       "      <td>0</td>\n",
       "    </tr>\n",
       "    <tr>\n",
       "      <th>19</th>\n",
       "      <td>5.1</td>\n",
       "      <td>3.8</td>\n",
       "      <td>1.5</td>\n",
       "      <td>0.3</td>\n",
       "      <td>0</td>\n",
       "    </tr>\n",
       "  </tbody>\n",
       "</table>\n",
       "</div>"
      ],
      "text/plain": [
       "    sepal length (cm)  sepal width (cm)  petal length (cm)  petal width (cm)  \\\n",
       "0                 5.1               3.5                1.4               0.2   \n",
       "1                 4.9               3.0                1.4               0.2   \n",
       "2                 4.7               3.2                1.3               0.2   \n",
       "3                 4.6               3.1                1.5               0.2   \n",
       "4                 5.0               3.6                1.4               0.2   \n",
       "5                 5.4               3.9                1.7               0.4   \n",
       "6                 4.6               3.4                1.4               0.3   \n",
       "7                 5.0               3.4                1.5               0.2   \n",
       "8                 4.4               2.9                1.4               0.2   \n",
       "9                 4.9               3.1                1.5               0.1   \n",
       "10                5.4               3.7                1.5               0.2   \n",
       "11                4.8               3.4                1.6               0.2   \n",
       "12                4.8               3.0                1.4               0.1   \n",
       "13                4.3               3.0                1.1               0.1   \n",
       "14                5.8               4.0                1.2               0.2   \n",
       "15                5.7               4.4                1.5               0.4   \n",
       "16                5.4               3.9                1.3               0.4   \n",
       "17                5.1               3.5                1.4               0.3   \n",
       "18                5.7               3.8                1.7               0.3   \n",
       "19                5.1               3.8                1.5               0.3   \n",
       "\n",
       "    Species  \n",
       "0         0  \n",
       "1         0  \n",
       "2         0  \n",
       "3         0  \n",
       "4         0  \n",
       "5         0  \n",
       "6         0  \n",
       "7         0  \n",
       "8         0  \n",
       "9         0  \n",
       "10        0  \n",
       "11        0  \n",
       "12        0  \n",
       "13        0  \n",
       "14        0  \n",
       "15        0  \n",
       "16        0  \n",
       "17        0  \n",
       "18        0  \n",
       "19        0  "
      ]
     },
     "execution_count": 29,
     "metadata": {},
     "output_type": "execute_result"
    }
   ],
   "source": [
    "# Load iris into a dataframe and set the field names\n",
    "df = pd.DataFrame(iris['data'], columns=iris['feature_names'])\n",
    "\n",
    "df['Species'] =  iris['target']\n",
    "\n",
    "df.head((20))"
   ]
  },
  {
   "cell_type": "code",
   "execution_count": 30,
   "metadata": {},
   "outputs": [
    {
     "name": "stdout",
     "output_type": "stream",
     "text": [
      "5.005999999999999\n",
      "5.936\n"
     ]
    }
   ],
   "source": [
    "#df [ df['Species'] == 1  ]\n",
    "\n",
    "var1 = df [ df['Species'] == 0 ] ['sepal length (cm)']\n",
    "mean_var1 = df [ df['Species'] == 0 ] ['sepal length (cm)'].mean()\n",
    "print(mean_var1)\n",
    "\n",
    "var2 = df [ df['Species'] == 1 ] ['sepal length (cm)']\n",
    "mean_var2 = df [ df['Species'] == 1 ] ['sepal length (cm)'].mean()\n",
    "print(mean_var2)"
   ]
  },
  {
   "cell_type": "code",
   "execution_count": null,
   "metadata": {},
   "outputs": [],
   "source": []
  },
  {
   "cell_type": "code",
   "execution_count": 31,
   "metadata": {},
   "outputs": [
    {
     "data": {
      "text/plain": [
       "0    5.1\n",
       "1    4.9\n",
       "2    4.7\n",
       "3    4.6\n",
       "4    5.0\n",
       "Name: sepal length (cm), dtype: float64"
      ]
     },
     "execution_count": 31,
     "metadata": {},
     "output_type": "execute_result"
    }
   ],
   "source": [
    "var1.head()"
   ]
  },
  {
   "cell_type": "code",
   "execution_count": 32,
   "metadata": {},
   "outputs": [
    {
     "data": {
      "text/plain": [
       "50    7.0\n",
       "51    6.4\n",
       "52    6.9\n",
       "53    5.5\n",
       "54    6.5\n",
       "Name: sepal length (cm), dtype: float64"
      ]
     },
     "execution_count": 32,
     "metadata": {},
     "output_type": "execute_result"
    }
   ],
   "source": [
    "var2.head()"
   ]
  },
  {
   "cell_type": "code",
   "execution_count": 33,
   "metadata": {},
   "outputs": [
    {
     "data": {
      "text/plain": [
       "dtype('float64')"
      ]
     },
     "execution_count": 33,
     "metadata": {},
     "output_type": "execute_result"
    }
   ],
   "source": [
    "var1.dtype"
   ]
  },
  {
   "cell_type": "code",
   "execution_count": 34,
   "metadata": {},
   "outputs": [
    {
     "data": {
      "text/plain": [
       "Ttest_indResult(statistic=-10.52098626754911, pvalue=3.746742613983842e-17)"
      ]
     },
     "execution_count": 34,
     "metadata": {},
     "output_type": "execute_result"
    }
   ],
   "source": [
    "import scipy.stats as st\n",
    "\n",
    "# user defined significance level\n",
    "significance_level = 0.05\n",
    "\n",
    "# Ho:  mu(group 1) - mu(group 0) = 0\n",
    "# Ha : mu(group 1) - mu(group 0) > 0\n",
    "\n",
    "# getting default result as per a double tail t-test\n",
    "result_1 = st.ttest_ind(var1, var2, equal_var= False )\n",
    "result_1\n"
   ]
  },
  {
   "cell_type": "code",
   "execution_count": 35,
   "metadata": {},
   "outputs": [],
   "source": [
    "n = len(var1)\n",
    "m = len(var2)"
   ]
  },
  {
   "cell_type": "code",
   "execution_count": 36,
   "metadata": {},
   "outputs": [
    {
     "name": "stdout",
     "output_type": "stream",
     "text": [
      "0.12176399999999993\n",
      "0.2611040000000001\n"
     ]
    }
   ],
   "source": [
    "st_var1 =  np.std(var1, ddof=1)\n",
    "st_var2 =  np.std(var2, ddof=1)\n",
    "\n",
    "print ( np.var(var1) )\n",
    "print ( np.var(var2) )"
   ]
  },
  {
   "cell_type": "code",
   "execution_count": 37,
   "metadata": {},
   "outputs": [
    {
     "data": {
      "text/plain": [
       "-10.52098626754912"
      ]
     },
     "execution_count": 37,
     "metadata": {},
     "output_type": "execute_result"
    }
   ],
   "source": [
    "denr = (st_var1**2/n) + (st_var2**2/m)\n",
    "test_stat = ( mean_var1 - mean_var2 ) / np.sqrt( denr  )\n",
    "\n",
    "# this tstat matches with above found using the test.. we can also find p-value after\n",
    "# computing the degrees of freedom as used in Welsch formulae\n",
    "test_stat"
   ]
  },
  {
   "cell_type": "code",
   "execution_count": null,
   "metadata": {},
   "outputs": [],
   "source": []
  },
  {
   "cell_type": "code",
   "execution_count": 38,
   "metadata": {},
   "outputs": [
    {
     "name": "stdout",
     "output_type": "stream",
     "text": [
      "Reject the null hypothesis\n"
     ]
    }
   ],
   "source": [
    "p_value_double_tail = result_1[1]\n",
    "\n",
    "p_value_single_tail = p_value_double_tail / 2\n",
    "\n",
    "if p_value_single_tail < significance_level :\n",
    "    \n",
    "    print('Reject the null hypothesis')\n",
    "\n",
    "else:\n",
    "    print('Fail to reject the null hypothesis')\n",
    "    \n",
    "    \n"
   ]
  },
  {
   "cell_type": "code",
   "execution_count": null,
   "metadata": {},
   "outputs": [],
   "source": []
  },
  {
   "cell_type": "code",
   "execution_count": null,
   "metadata": {},
   "outputs": [],
   "source": []
  },
  {
   "cell_type": "code",
   "execution_count": null,
   "metadata": {},
   "outputs": [],
   "source": []
  },
  {
   "cell_type": "code",
   "execution_count": null,
   "metadata": {},
   "outputs": [],
   "source": []
  },
  {
   "cell_type": "code",
   "execution_count": null,
   "metadata": {},
   "outputs": [],
   "source": []
  },
  {
   "cell_type": "code",
   "execution_count": null,
   "metadata": {},
   "outputs": [],
   "source": []
  }
 ],
 "metadata": {
  "kernelspec": {
   "display_name": "Python 3",
   "language": "python",
   "name": "python3"
  },
  "language_info": {
   "codemirror_mode": {
    "name": "ipython",
    "version": 3
   },
   "file_extension": ".py",
   "mimetype": "text/x-python",
   "name": "python",
   "nbconvert_exporter": "python",
   "pygments_lexer": "ipython3",
   "version": "3.7.1"
  }
 },
 "nbformat": 4,
 "nbformat_minor": 2
}
